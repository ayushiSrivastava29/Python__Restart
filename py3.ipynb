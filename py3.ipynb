{
 "cells": [
  {
   "cell_type": "markdown",
   "metadata": {},
   "source": [
    "String and Conditional Statements"
   ]
  },
  {
   "cell_type": "markdown",
   "metadata": {},
   "source": [
    "Different STRING Functions"
   ]
  },
  {
   "cell_type": "code",
   "execution_count": 8,
   "metadata": {},
   "outputs": [
    {
     "name": "stdout",
     "output_type": "stream",
     "text": [
      "HELLO\n",
      "python\n",
      "Hello Python\n",
      "Hello japan\n",
      "hELLO aUSTRALIA\n"
     ]
    }
   ],
   "source": [
    "# String Case Manipulation\n",
    "str = \"hello\"\n",
    "print(str.upper())\n",
    "\n",
    "str1= \"PYTHON\"\n",
    "print(str1.lower())\n",
    "\n",
    "str2 = \"hello python\"\n",
    "print(str2.title())\n",
    "\n",
    "str3 = \"hello japan\"\n",
    "print(str3.capitalize())\n",
    "\n",
    "str4 = \"Hello Australia\"\n",
    "print(str4.swapcase())\n"
   ]
  },
  {
   "cell_type": "code",
   "execution_count": null,
   "metadata": {},
   "outputs": [
    {
     "name": "stdout",
     "output_type": "stream",
     "text": [
      "10\n",
      "-1\n",
      "14\n",
      "True\n",
      "False\n",
      "3\n",
      "True\n",
      "True\n",
      "True\n",
      "True\n"
     ]
    }
   ],
   "source": [
    "#String Searching and Validation\n",
    "str5 = \"hello How are you ?\"\n",
    "print(str5.find(\"are\"))\n",
    "print(str5.find(\"where\"))\n",
    "\n",
    "print(str5.index(\"you\"))\n",
    "# print(str5.index(\"all\")) -->Valueerror\n",
    "print(str5.startswith(\"hello\"))\n",
    "print(str5.endswith(\"you\"))\n",
    "print(str5.count(\"o\"))\n",
    "\n",
    "str6= \"ab\"\n",
    "print(str6.isalpha())\n",
    "\n",
    "str7= \"123\"\n",
    "print(str7.isdigit())\n",
    "\n",
    "str8= \"ab123\"\n",
    "print(str8.isalnum())\n",
    "\n",
    "str9= \"  \"\n",
    "print(str9.isspace())"
   ]
  },
  {
   "cell_type": "code",
   "execution_count": 38,
   "metadata": {},
   "outputs": [
    {
     "name": "stdout",
     "output_type": "stream",
     "text": [
      "Welcome\n",
      "Welcome  \n",
      "   Welcpme  \n",
      "['Hello', 'Everyone']\n"
     ]
    }
   ],
   "source": [
    "#String Formatting\n",
    "st =\"   Welcome  \"\n",
    "print(st.strip())\n",
    "\n",
    "print(st.lstrip())\n",
    "print(st.replace('o','p'))\n",
    "\n",
    "st1= \"Hello Everyone\"\n",
    "print(st1.split())"
   ]
  },
  {
   "cell_type": "markdown",
   "metadata": {},
   "source": [
    "CONDITIONAL STATEMENTS IN PYTHON "
   ]
  },
  {
   "cell_type": "code",
   "execution_count": 40,
   "metadata": {},
   "outputs": [
    {
     "name": "stdout",
     "output_type": "stream",
     "text": [
      "Cannot Drive\n"
     ]
    }
   ],
   "source": [
    "age = 90\n",
    "\n",
    "#nested if\n",
    "if (age >=18):\n",
    "    if (age >=80):\n",
    "        print(\"Cannot Drive\")\n",
    "    else:\n",
    "        print(\"Can Drive\")\n",
    "else: \n",
    "    print(\"Not eligible to drive\")"
   ]
  },
  {
   "cell_type": "markdown",
   "metadata": {},
   "source": [
    "Practice questions"
   ]
  },
  {
   "cell_type": "code",
   "execution_count": null,
   "metadata": {},
   "outputs": [
    {
     "name": "stdout",
     "output_type": "stream",
     "text": [
      "Even Number.\n"
     ]
    }
   ],
   "source": [
    "# program to check if a number entered bya user is odd or even\n",
    "num = int(input(\"Enter a number: \"))\n",
    "\n",
    "if num % 2==0 :\n",
    "    print(\"Even Number.\")\n",
    "else : \n",
    "    print(\"Odd Number.\")"
   ]
  },
  {
   "cell_type": "code",
   "execution_count": 44,
   "metadata": {},
   "outputs": [
    {
     "name": "stdout",
     "output_type": "stream",
     "text": [
      "B is greater. 101\n"
     ]
    }
   ],
   "source": [
    "# write a program to find the greatest of 3 numbers entered by the user.\n",
    "a = int(input(\"Enter the 1st number: \"))\n",
    "b = int(input(\"Enter the 2nd number: \"))\n",
    "c = int(input(\"Enter the 3rd number: \"))\n",
    "\n",
    "if (a>=b  and a >=c):\n",
    "    print(\"A is greater.\",a)\n",
    "elif (b >= c):\n",
    "    print(\"B is greater.\",b)\n",
    "else :\n",
    "    print(\"C is greater.\",c)"
   ]
  },
  {
   "cell_type": "code",
   "execution_count": 46,
   "metadata": {},
   "outputs": [
    {
     "name": "stdout",
     "output_type": "stream",
     "text": [
      "Not a multiple.\n"
     ]
    }
   ],
   "source": [
    "# write a program to check if a number is  multiple of 7 or not\n",
    "n = int(input(\"Enter a number: \"))\n",
    "\n",
    "if (n%7 == 0):\n",
    "    print(\"Multiple of 7.\")\n",
    "else: \n",
    "    print(\"Not a multiple.\")"
   ]
  }
 ],
 "metadata": {
  "kernelspec": {
   "display_name": "Python 3",
   "language": "python",
   "name": "python3"
  },
  "language_info": {
   "codemirror_mode": {
    "name": "ipython",
    "version": 3
   },
   "file_extension": ".py",
   "mimetype": "text/x-python",
   "name": "python",
   "nbconvert_exporter": "python",
   "pygments_lexer": "ipython3",
   "version": "3.12.4"
  }
 },
 "nbformat": 4,
 "nbformat_minor": 2
}
