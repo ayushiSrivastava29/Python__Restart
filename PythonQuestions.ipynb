{
 "cells": [
  {
   "cell_type": "markdown",
   "metadata": {},
   "source": [
    "Q1.  Define a variable in Python. \n",
    "- Write a program where the user enters their favorite number \n",
    "- and the program responds: \"Wow! [number] is an amazing number!\""
   ]
  },
  {
   "cell_type": "markdown",
   "metadata": {},
   "source": [
    "Answer 1"
   ]
  },
  {
   "cell_type": "markdown",
   "metadata": {},
   "source": [
    "What is Variable ?\n"
   ]
  },
  {
   "cell_type": "markdown",
   "metadata": {},
   "source": [
    "A Variable is a name or container that holds a particular value. \n",
    "like a , b , var , w12 , etc."
   ]
  },
  {
   "cell_type": "code",
   "execution_count": 2,
   "metadata": {},
   "outputs": [
    {
     "name": "stdout",
     "output_type": "stream",
     "text": [
      "Wow 12  is an amazing number!\n"
     ]
    }
   ],
   "source": [
    "#code\n",
    "# User Input for a number and output message is: (Wow! [number] is an amazing number!)\n",
    "num = int(input(\"Enter your favourite number: \"))\n",
    "print(\"Wow\" , num , \" is an amazing number!\")\n"
   ]
  },
  {
   "cell_type": "markdown",
   "metadata": {},
   "source": [
    "------\n"
   ]
  },
  {
   "cell_type": "markdown",
   "metadata": {},
   "source": [
    "Q2. What is the difference between integers and floats? \n",
    "- Write a program to calculate the square of a number."
   ]
  },
  {
   "cell_type": "markdown",
   "metadata": {},
   "source": [
    "Answer 2"
   ]
  },
  {
   "cell_type": "markdown",
   "metadata": {},
   "source": [
    "Integer - Integer is a data type that holds a numeric value that includes both +ve and -ve number , as well as zero.\n",
    "\n",
    "Floats -  Float is a data type that holds the decimal value."
   ]
  },
  {
   "cell_type": "code",
   "execution_count": 3,
   "metadata": {},
   "outputs": [
    {
     "name": "stdout",
     "output_type": "stream",
     "text": [
      "Square of a number is :  16\n"
     ]
    }
   ],
   "source": [
    "# Code\n",
    "# User Input for a number to calculate it's square\n",
    "side = int(input(\"Enter a number: \"))\n",
    "sq = side * side\n",
    "print (\"Square of a number is : \" , sq)"
   ]
  },
  {
   "cell_type": "markdown",
   "metadata": {},
   "source": [
    "------\n"
   ]
  },
  {
   "cell_type": "markdown",
   "metadata": {},
   "source": [
    "Q3. Write a program to store\n",
    "- your name, your friend’s name, and your favorite food in separate variables.\n",
    "- Combine these into a sentence: \"Hi, I am [your name]. This is my friend [friend’s name], and we both love [food]!\""
   ]
  },
  {
   "cell_type": "code",
   "execution_count": 7,
   "metadata": {},
   "outputs": [
    {
     "name": "stdout",
     "output_type": "stream",
     "text": [
      "Hi , I am Ayushi  . This is my friend Samra  and we both love Fried Rice !\n"
     ]
    }
   ],
   "source": [
    "#  Combine sentence: \"Hi, I am [your name]. This is my friend [friend’s name], and we both love [food]!\n",
    "a = input(\"Enter you good name: \")\n",
    "b = input(\"Enter your Friend's good name: \")\n",
    "c = input(\"Enter your favorite food: \")\n",
    "print(\"Hi , I am\" ,a, \" . This is my friend\", b, \" and we both love\" , c ,\"!\")"
   ]
  },
  {
   "cell_type": "markdown",
   "metadata": {},
   "source": [
    "-----\n"
   ]
  },
  {
   "cell_type": "markdown",
   "metadata": {},
   "source": [
    "Q4. Write a program to check whether a character entered by user is vowel or consonant."
   ]
  },
  {
   "cell_type": "code",
   "execution_count": 33,
   "metadata": {},
   "outputs": [
    {
     "name": "stdout",
     "output_type": "stream",
     "text": [
      "You have entered a Consonant.\n"
     ]
    }
   ],
   "source": [
    "# Code\n",
    "char = \"aeiouAEIOU\" \n",
    "st = input(\"Enter the Character: \")\n",
    "if st in char :\n",
    "    print(\"You have Entered a Vowel.\")\n",
    "else: \n",
    "    print(\"You have entered a Consonant.\")"
   ]
  },
  {
   "cell_type": "markdown",
   "metadata": {},
   "source": [
    "----\n"
   ]
  },
  {
   "cell_type": "markdown",
   "metadata": {},
   "source": [
    "Q5. \n",
    "- Ask the user for two numbers. \n",
    "- Print their sum, \n",
    "- with display this fun message: \"If we add [number1] and [number2], we get [sum]!\""
   ]
  },
  {
   "cell_type": "code",
   "execution_count": 9,
   "metadata": {},
   "outputs": [
    {
     "name": "stdout",
     "output_type": "stream",
     "text": [
      "The sum of  22  and 12 is 34 .\n"
     ]
    }
   ],
   "source": [
    "#  Code\n",
    "# User Input 2 numnbers and output message is: (The sum of [number1] and [number2] is [sum].)\n",
    "a = int(input(\"Enter the 1st number : \"))\n",
    "b = int(input(\"Enter the 1st number : \"))\n",
    "sum = a + b\n",
    "print(\"The sum of \",a,\" and\" , b ,\"is\", sum, \".\")"
   ]
  },
  {
   "cell_type": "markdown",
   "metadata": {},
   "source": [
    "------"
   ]
  },
  {
   "cell_type": "markdown",
   "metadata": {},
   "source": [
    "Q6. Write a program to calculate the average of marks a student obtained. \n",
    "- Ask for marks in 5 subjects and total marks. \n",
    "- Challenge (optional) Display the result rounded to two decimal places."
   ]
  },
  {
   "cell_type": "code",
   "execution_count": 48,
   "metadata": {},
   "outputs": [
    {
     "name": "stdout",
     "output_type": "stream",
     "text": [
      "The average of 15 10 10 15 and  10 is  12.0 .\n"
     ]
    }
   ],
   "source": [
    "# Code\n",
    "# User Input 5 numbers and output message is: (The average of [number1], [number2], [number3], [number4], and [number5] is [average].)\n",
    "en = int(input(\"Enter the English Marks: \"))\n",
    "hi = int(input(\"Enter the Hindi Marks: \"))\n",
    "mat = int(input(\"Enter the Maths Marks: \"))\n",
    "sc = int(input(\"Enter the Science Marks: \"))\n",
    "soc = int(input(\"Enter the Social Science Marks: \"))\n",
    "tot_mark= en+hi+mat+sc+soc \n",
    "avg_mark = (en+hi+mat+sc+soc)/5\n",
    "print(\"The average of\", en , hi , mat , sc , \"and \" , soc, \"is \" ,  avg_mark ,\".\")\n"
   ]
  },
  {
   "cell_type": "markdown",
   "metadata": {},
   "source": [
    "------"
   ]
  },
  {
   "cell_type": "markdown",
   "metadata": {},
   "source": [
    "Q7. Write a program to print all the even numbers between 1 to 50."
   ]
  },
  {
   "cell_type": "code",
   "execution_count": null,
   "metadata": {},
   "outputs": [
    {
     "name": "stdout",
     "output_type": "stream",
     "text": [
      "0 2 4 6 8 10 12 14 16 18 20 22 24 26 28 30 32 34 36 38 40 42 44 46 48 50 "
     ]
    }
   ],
   "source": [
    "# Code\n",
    "# number is even \n",
    "for i in range( 0 , 51 , 2):\n",
    "        print(i , end= \" \")"
   ]
  },
  {
   "cell_type": "markdown",
   "metadata": {},
   "source": [
    "-----"
   ]
  },
  {
   "cell_type": "markdown",
   "metadata": {},
   "source": [
    "Q8. Write a program to find the largest of three numbers entered by the user."
   ]
  },
  {
   "cell_type": "code",
   "execution_count": 43,
   "metadata": {},
   "outputs": [
    {
     "name": "stdout",
     "output_type": "stream",
     "text": [
      "2nd number is greater than 3rd number.\n"
     ]
    }
   ],
   "source": [
    "# Code\n",
    "x = int(input(\"Enter the 1st Number: \"))\n",
    "y = int(input(\"Enter a 2nd Number: \"))\n",
    "z = int(input(\"Enter the 3rd Number: \"))\n",
    "if x > y: \n",
    "    print(\"1st number is greater than 2nd  number.\")\n",
    "elif y > z:\n",
    "    print(\"2nd number is greater than 3rd number.\")\n",
    "else :\n",
    "    print(\"3rd Number is the largest number of above all.\")"
   ]
  },
  {
   "cell_type": "markdown",
   "metadata": {},
   "source": [
    "----"
   ]
  },
  {
   "cell_type": "markdown",
   "metadata": {},
   "source": [
    "Q9. Create a program that calculates the area of triangle."
   ]
  },
  {
   "cell_type": "code",
   "execution_count": 16,
   "metadata": {},
   "outputs": [
    {
     "name": "stdout",
     "output_type": "stream",
     "text": [
      "Area of a Triangle is:  6.0\n"
     ]
    }
   ],
   "source": [
    "# Code\n",
    "base = int(input(\"Enter the base of a triangle : \"))\n",
    "height = int(input(\"Enter a height of a triangle: \"))\n",
    "area = 1/2 * base * height\n",
    "print(\"Area of a Triangle is: \", area)"
   ]
  },
  {
   "cell_type": "markdown",
   "metadata": {},
   "source": [
    "------"
   ]
  },
  {
   "cell_type": "markdown",
   "metadata": {},
   "source": [
    "Q10. Write a Python program to print all even numbers between 1 and 50."
   ]
  },
  {
   "cell_type": "code",
   "execution_count": 40,
   "metadata": {},
   "outputs": [
    {
     "name": "stdout",
     "output_type": "stream",
     "text": [
      "0 \t\n",
      "2 \t\n",
      "4 \t\n",
      "6 \t\n",
      "8 \t\n",
      "10 \t\n",
      "12 \t\n",
      "14 \t\n",
      "16 \t\n",
      "18 \t\n",
      "20 \t\n",
      "22 \t\n",
      "24 \t\n",
      "26 \t\n",
      "28 \t\n",
      "30 \t\n",
      "32 \t\n",
      "34 \t\n",
      "36 \t\n",
      "38 \t\n",
      "40 \t\n",
      "42 \t\n",
      "44 \t\n",
      "46 \t\n",
      "48 \t\n",
      "50 \t\n"
     ]
    }
   ],
   "source": [
    "# Code\n",
    "for i in range( 0 , 51 , 2):\n",
    "        print(i , '\\t')"
   ]
  },
  {
   "cell_type": "markdown",
   "metadata": {},
   "source": [
    "-----"
   ]
  },
  {
   "cell_type": "markdown",
   "metadata": {},
   "source": [
    "Q11. Write a program that reverses a given string entered by the user."
   ]
  },
  {
   "cell_type": "code",
   "execution_count": 25,
   "metadata": {},
   "outputs": [
    {
     "name": "stdout",
     "output_type": "stream",
     "text": [
      "Umbrella\n",
      "allerbmU\n"
     ]
    }
   ],
   "source": [
    "# Code use list\n",
    "str = input(\"Enter a String : \")\n",
    "print(str)\n",
    "st = str[::-1]\n",
    "print(st)\n"
   ]
  },
  {
   "cell_type": "markdown",
   "metadata": {},
   "source": [
    "-----"
   ]
  },
  {
   "cell_type": "markdown",
   "metadata": {},
   "source": [
    "Q12. What is the difference between a for loop and a while loop? Provide an example for each.\n"
   ]
  },
  {
   "cell_type": "markdown",
   "metadata": {},
   "source": [
    "- For Loop check the conditions before the execution of a program code.\n",
    "- Whereas While loop executes the program at least once and then checks the conditions of a program code."
   ]
  },
  {
   "cell_type": "code",
   "execution_count": 6,
   "metadata": {},
   "outputs": [],
   "source": [
    "# Code"
   ]
  },
  {
   "cell_type": "markdown",
   "metadata": {},
   "source": [
    "----"
   ]
  },
  {
   "cell_type": "markdown",
   "metadata": {},
   "source": [
    "Q13. Write a Python program to print I AM THE BEST 10 times."
   ]
  },
  {
   "cell_type": "code",
   "execution_count": 36,
   "metadata": {},
   "outputs": [
    {
     "name": "stdout",
     "output_type": "stream",
     "text": [
      "I AM THE BEST.\n",
      "I AM THE BEST.\n",
      "I AM THE BEST.\n",
      "I AM THE BEST.\n",
      "I AM THE BEST.\n",
      "I AM THE BEST.\n",
      "I AM THE BEST.\n",
      "I AM THE BEST.\n",
      "I AM THE BEST.\n",
      "I AM THE BEST.\n",
      "I AM THE BEST.\n"
     ]
    }
   ],
   "source": [
    "for i in range (11):\n",
    "    print(\"I AM THE BEST.\")"
   ]
  },
  {
   "cell_type": "markdown",
   "metadata": {},
   "source": [
    "----"
   ]
  },
  {
   "cell_type": "markdown",
   "metadata": {},
   "source": [
    "Q14. Write a program that uses a while loop to calculate the sum of all numbers from 1 to 100."
   ]
  },
  {
   "cell_type": "code",
   "execution_count": null,
   "metadata": {},
   "outputs": [],
   "source": [
    "i = 1\n",
    "while (i <100) :"
   ]
  },
  {
   "cell_type": "markdown",
   "metadata": {},
   "source": [
    "---"
   ]
  },
  {
   "cell_type": "markdown",
   "metadata": {},
   "source": [
    "Q15. Create a program that prints the multiplication table of a number entered by the user"
   ]
  },
  {
   "cell_type": "markdown",
   "metadata": {},
   "source": [
    "---"
   ]
  },
  {
   "cell_type": "markdown",
   "metadata": {},
   "source": [
    "Q16. Write a Python program to find the factorial of a number using a for loop."
   ]
  },
  {
   "cell_type": "markdown",
   "metadata": {},
   "source": [
    "-----"
   ]
  },
  {
   "cell_type": "markdown",
   "metadata": {},
   "source": [
    "Q17. Create a program that takes the user's marks (out of 100) as input and prints their grade based on the following \n",
    "- criteria:\n",
    "- Grade A: Marks >= 90\n",
    "- Grade B: Marks >= 75 and < 90\n",
    "- Grade C: Marks >= 50 and < 75\n",
    "- Fail: Marks < 50"
   ]
  },
  {
   "cell_type": "markdown",
   "metadata": {},
   "source": []
  },
  {
   "cell_type": "markdown",
   "metadata": {},
   "source": [
    "----"
   ]
  },
  {
   "cell_type": "markdown",
   "metadata": {},
   "source": [
    "Q18. Write a program to check whether a number is positive, negative, or zero."
   ]
  },
  {
   "cell_type": "code",
   "execution_count": 21,
   "metadata": {},
   "outputs": [
    {
     "name": "stdout",
     "output_type": "stream",
     "text": [
      "You entered Zero number.\n"
     ]
    }
   ],
   "source": [
    "num = int(input(\"Enter a Number: \"))\n",
    "if num > 0 :\n",
    "    print(\"Positive Number\")\n",
    "elif num < 0 :\n",
    "    print(\"Negative Number\")\n",
    "else :\n",
    "    print(\"You entered Zero number.\")"
   ]
  },
  {
   "cell_type": "markdown",
   "metadata": {},
   "source": [
    "----"
   ]
  },
  {
   "cell_type": "markdown",
   "metadata": {},
   "source": [
    "Q19. Write a Python program to check if a year is leap year or not."
   ]
  },
  {
   "cell_type": "markdown",
   "metadata": {},
   "source": [
    "-----"
   ]
  },
  {
   "cell_type": "markdown",
   "metadata": {},
   "source": [
    "Q20. Write a program to create a website account system."
   ]
  },
  {
   "cell_type": "code",
   "execution_count": 50,
   "metadata": {},
   "outputs": [
    {
     "name": "stdout",
     "output_type": "stream",
     "text": [
      "Welcome to our Website. Register Please !!!\n",
      "Invalid email\n"
     ]
    }
   ],
   "source": [
    "print(\"Welcome to our Website. Register Please !!!\")\n",
    "username = input(\"Enter your username:\")\n",
    "email = input(\"Enter your email: \")\n",
    "password = input(\"Enter your password: \")\n",
    "cpass = input(\"Re-enter your password: \")\n",
    "if len(username)>5 and len(username)<15:\n",
    "    if '@' in email and len(email)>10:\n",
    "        if len(password)>5 and len(password)<=10:\n",
    "            if password == cpass :\n",
    "                print(\"Hurray ! Registered Succesfully\")\n",
    "            else :\n",
    "                print(\"password mismatch\")\n",
    "            \n",
    "        else :\n",
    "            print(\"Incorrect Password\")\n",
    "        \n",
    "    else : \n",
    "        print(\"Invalid email\")\n",
    "else : \n",
    "    print (\"Invalid username\")"
   ]
  },
  {
   "cell_type": "markdown",
   "metadata": {},
   "source": [
    "----"
   ]
  },
  {
   "cell_type": "markdown",
   "metadata": {},
   "source": []
  }
 ],
 "metadata": {
  "kernelspec": {
   "display_name": "Python 3",
   "language": "python",
   "name": "python3"
  },
  "language_info": {
   "codemirror_mode": {
    "name": "ipython",
    "version": 3
   },
   "file_extension": ".py",
   "mimetype": "text/x-python",
   "name": "python",
   "nbconvert_exporter": "python",
   "pygments_lexer": "ipython3",
   "version": "3.12.4"
  }
 },
 "nbformat": 4,
 "nbformat_minor": 2
}
