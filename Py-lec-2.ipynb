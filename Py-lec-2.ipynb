{
 "cells": [
  {
   "cell_type": "code",
   "execution_count": 1,
   "metadata": {},
   "outputs": [
    {
     "name": "stdout",
     "output_type": "stream",
     "text": [
      "The sum of a and b is:  34\n"
     ]
    }
   ],
   "source": [
    "a = int(input(\"Enter 1st number: \"))\n",
    "b = int(input(\"Enter 2nd number: \"))\n",
    "sum = (a+b)\n",
    "print(\"The sum of a and b is: \", sum)"
   ]
  },
  {
   "cell_type": "code",
   "execution_count": 7,
   "metadata": {},
   "outputs": [
    {
     "name": "stdout",
     "output_type": "stream",
     "text": [
      "The average of x and y is:  5.0\n"
     ]
    }
   ],
   "source": [
    "x = float(input(\"Enter the 1st Number: \"))\n",
    "y = float(input(\"Enter the 2nd Number: \"))\n",
    "\n",
    "average = (x+y)/2\n",
    "\n",
    "print(\"The average of x and y is: \", average)"
   ]
  },
  {
   "cell_type": "code",
   "execution_count": 11,
   "metadata": {},
   "outputs": [
    {
     "name": "stdout",
     "output_type": "stream",
     "text": [
      "False\n"
     ]
    }
   ],
   "source": [
    "p = int(input(\"Enter p number: \"))\n",
    "q = int(input(\"Enter q number: \"))\n",
    "\n",
    "print (p>=q)\n",
    "\n",
    "# if p>=q :\n",
    "#     print(\"True\")\n",
    "# else :\n",
    "#     print(\"False\")"
   ]
  },
  {
   "cell_type": "code",
   "execution_count": 5,
   "metadata": {},
   "outputs": [
    {
     "name": "stdout",
     "output_type": "stream",
     "text": [
      "The area of a Square is:  20.25\n"
     ]
    }
   ],
   "source": [
    "side = float(input(\"Enter the side of a Square: \"))\n",
    "\n",
    "area = side*side\n",
    "print(\"The area of a Square is: \", area)"
   ]
  },
  {
   "cell_type": "code",
   "execution_count": 1,
   "metadata": {},
   "outputs": [
    {
     "name": "stdout",
     "output_type": "stream",
     "text": [
      "Your Name is:  Ayushi\n"
     ]
    }
   ],
   "source": [
    "name = input(\"Enter your name: \")\n",
    "print(\"Your Name is: \", name)"
   ]
  },
  {
   "cell_type": "markdown",
   "metadata": {},
   "source": [
    "Day-2\n",
    "Topic - Strings and Conditional Statements"
   ]
  },
  {
   "cell_type": "markdown",
   "metadata": {},
   "source": [
    "Strings In Python"
   ]
  },
  {
   "cell_type": "code",
   "execution_count": 2,
   "metadata": {},
   "outputs": [
    {
     "name": "stdout",
     "output_type": "stream",
     "text": [
      "Hello , Everyone How You all are doing ??\n",
      "Let me know \n"
     ]
    }
   ],
   "source": [
    "s1 = \"Hello ,\"\n",
    "s2 = 'Everyone'\n",
    "s3 = '''How You all are doing ??\n",
    "Let me know '''\n",
    "\n",
    "print(s1 , s2 , s3)\n",
    "# print(s2)\n",
    "# print(s3)"
   ]
  },
  {
   "cell_type": "markdown",
   "metadata": {},
   "source": [
    "Basic String Operations in Python"
   ]
  },
  {
   "cell_type": "code",
   "execution_count": null,
   "metadata": {},
   "outputs": [
    {
     "name": "stdout",
     "output_type": "stream",
     "text": [
      "Hello World\n",
      "11\n",
      "hello hello hello hello \n",
      "24\n",
      "c\n",
      "Clev\n",
      "r_Programmer\n",
      "lever\n",
      "ogrammer\n"
     ]
    }
   ],
   "source": [
    "# Concatenation\n",
    "a = \"Hello\"\n",
    "b = \"World\"\n",
    "print(a + \" \" + b)\n",
    "\n",
    "# Length\n",
    "str = \"Helpfulness\"\n",
    "print(len(str))\n",
    "\n",
    "# Repetition / Duplication\n",
    "ar = 'hello ' * 4\n",
    "print(ar)\n",
    "print(len(ar))\n",
    "\n",
    "# Indexing \n",
    "ss = \"Replication\"\n",
    "print(ss[5])\n",
    "\n",
    "# Slicing\n",
    "ab = \"Clever_Programmer\"\n",
    "print(ab[:4])\n",
    "print(ab[5:])\n",
    "print(ab[1:6])\n",
    "print(ab[-8:])"
   ]
  },
  {
   "cell_type": "code",
   "execution_count": 23,
   "metadata": {},
   "outputs": [
    {
     "name": "stdout",
     "output_type": "stream",
     "text": [
      "Hello\n",
      "World\n",
      "It's Python\n",
      "Tab\tSpace\n",
      "Backslash \\\n"
     ]
    }
   ],
   "source": [
    "print(\"Hello\\nWorld\")  # Newline\n",
    "print(\"It\\'s Python\")  # Escape single quote\n",
    "print(\"Tab\\tSpace\")    # Tab space\n",
    "print(\"Backslash \\\\\")  # Backslash\n"
   ]
  },
  {
   "cell_type": "code",
   "execution_count": null,
   "metadata": {},
   "outputs": [
    {
     "data": {
      "text/plain": [
       "2"
      ]
     },
     "execution_count": 7,
     "metadata": {},
     "output_type": "execute_result"
    }
   ],
   "source": [
    "ss = \"Replication\"\n",
    "ac = \"magnifies\"\n",
    "ss.lower()\n",
    "ss.upper()\n",
    "ac.capitalize()\n",
    "ac.count(\"i\")"
   ]
  },
  {
   "cell_type": "code",
   "execution_count": 12,
   "metadata": {},
   "outputs": [
    {
     "data": {
      "text/plain": [
       "['hey', 'everyone']"
      ]
     },
     "execution_count": 12,
     "metadata": {},
     "output_type": "execute_result"
    }
   ],
   "source": [
    "az = \"hey everyone\"\n",
    "az.title()\n",
    "az.count(\"e\")\n",
    "az.split()"
   ]
  },
  {
   "cell_type": "code",
   "execution_count": 16,
   "metadata": {},
   "outputs": [
    {
     "name": "stdout",
     "output_type": "stream",
     "text": [
      "Twinkle Twinkle Little Star,\n",
      "How you are wonder what you are ,\n",
      "up above the world so high ,\n",
      "like a diamond in the sky ... \n"
     ]
    }
   ],
   "source": [
    "poem = '''Twinkle Twinkle Little Star,\n",
    "How you are wonder what you are ,\n",
    "up above the world so high ,\n",
    "like a diamond in the sky ... '''\n",
    "print(poem)"
   ]
  },
  {
   "cell_type": "code",
   "execution_count": 17,
   "metadata": {},
   "outputs": [
    {
     "data": {
      "text/plain": [
       "['Twinkle Twinkle Little Star,',\n",
       " 'How you are wonder what you are ,',\n",
       " 'up above the world so high ,',\n",
       " 'like a diamond in the sky ... ']"
      ]
     },
     "execution_count": 17,
     "metadata": {},
     "output_type": "execute_result"
    }
   ],
   "source": [
    "poem.splitlines()"
   ]
  }
 ],
 "metadata": {
  "kernelspec": {
   "display_name": "Python 3",
   "language": "python",
   "name": "python3"
  },
  "language_info": {
   "codemirror_mode": {
    "name": "ipython",
    "version": 3
   },
   "file_extension": ".py",
   "mimetype": "text/x-python",
   "name": "python",
   "nbconvert_exporter": "python",
   "pygments_lexer": "ipython3",
   "version": "3.12.4"
  }
 },
 "nbformat": 4,
 "nbformat_minor": 2
}
