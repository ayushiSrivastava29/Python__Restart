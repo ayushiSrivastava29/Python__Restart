{
 "cells": [
  {
   "cell_type": "markdown",
   "metadata": {},
   "source": [
    "TOPIC - LISTS AND TUPLES IN PYTHON"
   ]
  },
  {
   "cell_type": "markdown",
   "metadata": {},
   "source": [
    "- list are denoted by '[ ]' brackets.\n",
    "- list are ordered, mutable and allow duplicate values.\n",
    "- list are built-in data structures\n",
    "- list stores elements of different data types like integer , float , string, etc."
   ]
  },
  {
   "cell_type": "code",
   "execution_count": null,
   "metadata": {},
   "outputs": [
    {
     "name": "stdout",
     "output_type": "stream",
     "text": [
      "[22, 23, 56, 45, 55]\n",
      "<class 'list'>\n"
     ]
    }
   ],
   "source": [
    "# creating a list\n",
    "marks = [22,23,56,45,55]\n",
    "print(marks)\n",
    "print(type(marks))"
   ]
  },
  {
   "cell_type": "code",
   "execution_count": 5,
   "metadata": {},
   "outputs": [
    {
     "name": "stdout",
     "output_type": "stream",
     "text": [
      "['karan', 95.6, 15, 'Azamgarh']\n",
      "['arjun', 95.6, 15, 'Azamgarh']\n"
     ]
    }
   ],
   "source": [
    "student = [\"karan\" , 95.6 ,15 , \"Azamgarh\"]\n",
    "print(student)\n",
    "student[0] = \"arjun\"\n",
    "print(student)"
   ]
  }
 ],
 "metadata": {
  "kernelspec": {
   "display_name": "Python 3",
   "language": "python",
   "name": "python3"
  },
  "language_info": {
   "codemirror_mode": {
    "name": "ipython",
    "version": 3
   },
   "file_extension": ".py",
   "mimetype": "text/x-python",
   "name": "python",
   "nbconvert_exporter": "python",
   "pygments_lexer": "ipython3",
   "version": "3.12.4"
  }
 },
 "nbformat": 4,
 "nbformat_minor": 2
}
